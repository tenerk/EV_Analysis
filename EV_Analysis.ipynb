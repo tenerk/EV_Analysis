{
 "cells": [
  {
   "cell_type": "markdown",
   "id": "c9ac1839-0dba-4404-a8e2-ba9128a907ae",
   "metadata": {},
   "source": [
    "## Import relevant Python Modules"
   ]
  },
  {
   "cell_type": "code",
   "execution_count": 1,
   "id": "aea340f2-649b-4976-bb65-2d02b84bd0d7",
   "metadata": {},
   "outputs": [],
   "source": [
    "import geopandas as gpd\n",
    "import contextily as cx\n",
    "import matplotlib as plt\n",
    "import shapely\n",
    "import cartopy.crs as ccris\n",
    "import os"
   ]
  },
  {
   "cell_type": "markdown",
   "id": "2b6c668b-c350-4391-977e-428abf42a9f6",
   "metadata": {},
   "source": [
    "## Import data"
   ]
  },
  {
   "cell_type": "code",
   "execution_count": 3,
   "id": "ef66d35b-745a-4b33-a580-4f722f4a4461",
   "metadata": {},
   "outputs": [],
   "source": [
    "substations = gpd.read_file(os.path.abspath('Data/belfastSubstations.shp'))\n",
    "EVcharging = gpd.read_file(os.path.abspath('Data/evChargingStations_belfast.shp'))"
   ]
  },
  {
   "cell_type": "markdown",
   "id": "d05a23d1-cd48-467a-bd63-9d4c697baf75",
   "metadata": {},
   "source": [
    "## Check CRS"
   ]
  },
  {
   "cell_type": "code",
   "execution_count": 4,
   "id": "420ca077-f58e-45ba-a736-9a42101503f2",
   "metadata": {},
   "outputs": [
    {
     "data": {
      "text/plain": [
       "<Geographic 2D CRS: EPSG:4326>\n",
       "Name: WGS 84\n",
       "Axis Info [ellipsoidal]:\n",
       "- Lat[north]: Geodetic latitude (degree)\n",
       "- Lon[east]: Geodetic longitude (degree)\n",
       "Area of Use:\n",
       "- name: World.\n",
       "- bounds: (-180.0, -90.0, 180.0, 90.0)\n",
       "Datum: World Geodetic System 1984 ensemble\n",
       "- Ellipsoid: WGS 84\n",
       "- Prime Meridian: Greenwich"
      ]
     },
     "execution_count": 4,
     "metadata": {},
     "output_type": "execute_result"
    }
   ],
   "source": [
    "substations.crs"
   ]
  },
  {
   "cell_type": "markdown",
   "id": "aae0f68d-0332-41bb-a3a3-eef02b1cb009",
   "metadata": {},
   "source": [
    "## Convert CRS to match basemap"
   ]
  },
  {
   "cell_type": "code",
   "execution_count": 5,
   "id": "aab5058d-2b09-45f2-bbd7-6f709fb9fa27",
   "metadata": {},
   "outputs": [],
   "source": [
    "substations_wgs = substations.to_crs(epsg=3857)\n",
    "EVcharging_wgs = EVcharging.to_crs(epsg=3857)"
   ]
  },
  {
   "cell_type": "markdown",
   "id": "7e81fb20-1c0d-4c7b-9f53-8a2f2f30311f",
   "metadata": {},
   "source": [
    "## Create Plot"
   ]
  },
  {
   "cell_type": "code",
   "execution_count": null,
   "id": "ee443c45-e734-48eb-a5b0-bdb020169240",
   "metadata": {},
   "outputs": [],
   "source": []
  }
 ],
 "metadata": {
  "kernelspec": {
   "display_name": "Python 3 (ipykernel)",
   "language": "python",
   "name": "python3"
  },
  "language_info": {
   "codemirror_mode": {
    "name": "ipython",
    "version": 3
   },
   "file_extension": ".py",
   "mimetype": "text/x-python",
   "name": "python",
   "nbconvert_exporter": "python",
   "pygments_lexer": "ipython3",
   "version": "3.9.22"
  }
 },
 "nbformat": 4,
 "nbformat_minor": 5
}
