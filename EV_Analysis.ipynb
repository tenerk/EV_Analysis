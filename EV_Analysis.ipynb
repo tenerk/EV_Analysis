{
 "cells": [
  {
   "cell_type": "markdown",
   "id": "22133c97-9bbe-429b-b0f7-e36ca5362ed1",
   "metadata": {},
   "source": [
    "## Import Relevant Systems "
   ]
  },
  {
   "cell_type": "code",
   "execution_count": 97,
   "id": "2507dde7-5cd5-4370-9bf2-ccb0c0f1fd35",
   "metadata": {},
   "outputs": [],
   "source": [
    "%matplotlib inline\n",
    "\n",
    "import os \n",
    "import geopandas as gpd\n",
    "import matplotlib.pyplot as plt\n",
    "import matplotlib.patches as mpatches\n",
    "import matplotlib.lines as mlines\n",
    "from cartopy.feature import ShapelyFeature\n",
    "import cartopy.crs as ccrs\n",
    "from cartopy.io.img_tiles import OSM\n",
    "import contextily as cx\n"
   ]
  },
  {
   "cell_type": "markdown",
   "id": "2b6c668b-c350-4391-977e-428abf42a9f6",
   "metadata": {},
   "source": [
    "## Import data"
   ]
  },
  {
   "cell_type": "code",
   "execution_count": 50,
   "id": "ef66d35b-745a-4b33-a580-4f722f4a4461",
   "metadata": {},
   "outputs": [],
   "source": [
    "substations = gpd.read_file(os.path.abspath('Data/belfastSubstations.shp')) # Import Substations data from Data folder within Repository\n",
    "EVcharging = gpd.read_file(os.path.abspath('Data/evChargingStations_belfast.shp')) # Import EV Charging data from same folder"
   ]
  },
  {
   "cell_type": "markdown",
   "id": "d05a23d1-cd48-467a-bd63-9d4c697baf75",
   "metadata": {},
   "source": [
    "## Check CRS"
   ]
  },
  {
   "cell_type": "code",
   "execution_count": 51,
   "id": "420ca077-f58e-45ba-a736-9a42101503f2",
   "metadata": {},
   "outputs": [
    {
     "data": {
      "text/plain": [
       "<Geographic 2D CRS: EPSG:4326>\n",
       "Name: WGS 84\n",
       "Axis Info [ellipsoidal]:\n",
       "- Lat[north]: Geodetic latitude (degree)\n",
       "- Lon[east]: Geodetic longitude (degree)\n",
       "Area of Use:\n",
       "- name: World.\n",
       "- bounds: (-180.0, -90.0, 180.0, 90.0)\n",
       "Datum: World Geodetic System 1984 ensemble\n",
       "- Ellipsoid: WGS 84\n",
       "- Prime Meridian: Greenwich"
      ]
     },
     "execution_count": 51,
     "metadata": {},
     "output_type": "execute_result"
    }
   ],
   "source": [
    "substations.crs # Confirm the CRS for the substation layer\n",
    "EVcharging.crs # Confirm the CRS for the EV Charging layer"
   ]
  },
  {
   "cell_type": "markdown",
   "id": "24b3a102-2f7a-4e8d-a006-4aa44b382675",
   "metadata": {},
   "source": [
    "## Reproject Data from Geographic CRS to Projected CRS for buffering and cooperation with basemap"
   ]
  },
  {
   "cell_type": "code",
   "execution_count": 86,
   "id": "f6e41b50-7b05-4b21-b1c5-fcb939c51821",
   "metadata": {},
   "outputs": [],
   "source": [
    "substations_wm = substations.to_crs(epsg=3857) # Convert to Web Mercator\n",
    "EVcharging_wm = EVcharging.to_crs(epsg=3857) # Convert to Web Mercator"
   ]
  },
  {
   "cell_type": "code",
   "execution_count": 6,
   "id": "a5f92941-9f9b-4160-8d7c-56d9bf7814e5",
   "metadata": {},
   "outputs": [
    {
     "data": {
      "text/html": [
       "<div>\n",
       "<style scoped>\n",
       "    .dataframe tbody tr th:only-of-type {\n",
       "        vertical-align: middle;\n",
       "    }\n",
       "\n",
       "    .dataframe tbody tr th {\n",
       "        vertical-align: top;\n",
       "    }\n",
       "\n",
       "    .dataframe thead th {\n",
       "        text-align: right;\n",
       "    }\n",
       "</style>\n",
       "<table border=\"1\" class=\"dataframe\">\n",
       "  <thead>\n",
       "    <tr style=\"text-align: right;\">\n",
       "      <th></th>\n",
       "      <th>dataset</th>\n",
       "      <th>license_ar</th>\n",
       "      <th>site_name</th>\n",
       "      <th>site_funct</th>\n",
       "      <th>site_type</th>\n",
       "      <th>site_volta</th>\n",
       "      <th>site_stree</th>\n",
       "      <th>site_town_</th>\n",
       "      <th>site_count</th>\n",
       "      <th>site_postc</th>\n",
       "      <th>site_longi</th>\n",
       "      <th>site_latit</th>\n",
       "      <th>lad_name</th>\n",
       "      <th>lad_code</th>\n",
       "      <th>geometry</th>\n",
       "    </tr>\n",
       "  </thead>\n",
       "  <tbody>\n",
       "    <tr>\n",
       "      <th>0</th>\n",
       "      <td>Primary Substations</td>\n",
       "      <td>NIE Networks</td>\n",
       "      <td>BALLYMACARRETT</td>\n",
       "      <td>10000618</td>\n",
       "      <td>PRIMARY</td>\n",
       "      <td>33KV</td>\n",
       "      <td>None</td>\n",
       "      <td>BELFAST</td>\n",
       "      <td>ANTRIM</td>\n",
       "      <td>BT5 5BB</td>\n",
       "      <td>336614.230374</td>\n",
       "      <td>374087.387280</td>\n",
       "      <td>Belfast</td>\n",
       "      <td>N09000003</td>\n",
       "      <td>POINT (-5.88703 54.59655)</td>\n",
       "    </tr>\n",
       "    <tr>\n",
       "      <th>1</th>\n",
       "      <td>Primary Substations</td>\n",
       "      <td>NIE Networks</td>\n",
       "      <td>BALLYSILLAN</td>\n",
       "      <td>10000625</td>\n",
       "      <td>PRIMARY</td>\n",
       "      <td>33KV</td>\n",
       "      <td>108 ALLIANCE RD</td>\n",
       "      <td>BELFAST</td>\n",
       "      <td>ANTRIM</td>\n",
       "      <td>BT14 7JF</td>\n",
       "      <td>331616.243565</td>\n",
       "      <td>376578.967095</td>\n",
       "      <td>Belfast</td>\n",
       "      <td>N09000003</td>\n",
       "      <td>POINT (-5.96319 54.62025)</td>\n",
       "    </tr>\n",
       "    <tr>\n",
       "      <th>2</th>\n",
       "      <td>Primary Substations</td>\n",
       "      <td>NIE Networks</td>\n",
       "      <td>BALMORAL</td>\n",
       "      <td>10000626</td>\n",
       "      <td>PRIMARY</td>\n",
       "      <td>33KV</td>\n",
       "      <td>None</td>\n",
       "      <td>BELFAST</td>\n",
       "      <td>ANTRIM</td>\n",
       "      <td>BT10 0HB</td>\n",
       "      <td>330798.657759</td>\n",
       "      <td>370428.930084</td>\n",
       "      <td>Belfast</td>\n",
       "      <td>N09000003</td>\n",
       "      <td>POINT (-5.97857 54.56525)</td>\n",
       "    </tr>\n",
       "    <tr>\n",
       "      <th>3</th>\n",
       "      <td>Primary Substations</td>\n",
       "      <td>NIE Networks</td>\n",
       "      <td>CITY HOSPITAL S/D</td>\n",
       "      <td>10370529</td>\n",
       "      <td>PRIMARY</td>\n",
       "      <td>33KV</td>\n",
       "      <td>37 LISBURN ROAD</td>\n",
       "      <td>BELFAST</td>\n",
       "      <td>ANTRIM</td>\n",
       "      <td>None</td>\n",
       "      <td>333306.445984</td>\n",
       "      <td>372967.550692</td>\n",
       "      <td>Belfast</td>\n",
       "      <td>N09000003</td>\n",
       "      <td>POINT (-5.93868 54.58738)</td>\n",
       "    </tr>\n",
       "    <tr>\n",
       "      <th>4</th>\n",
       "      <td>Primary Substations</td>\n",
       "      <td>NIE Networks</td>\n",
       "      <td>LAGANSIDE</td>\n",
       "      <td>10000891</td>\n",
       "      <td>PRIMARY</td>\n",
       "      <td>33KV</td>\n",
       "      <td>None</td>\n",
       "      <td>BELFAST</td>\n",
       "      <td>ANTRIM</td>\n",
       "      <td>None</td>\n",
       "      <td>334650.990502</td>\n",
       "      <td>374032.514494</td>\n",
       "      <td>Belfast</td>\n",
       "      <td>N09000003</td>\n",
       "      <td>POINT (-5.91741 54.59659)</td>\n",
       "    </tr>\n",
       "    <tr>\n",
       "      <th>5</th>\n",
       "      <td>Primary Substations</td>\n",
       "      <td>NIE Networks</td>\n",
       "      <td>MULHOUSE ROAD</td>\n",
       "      <td>10481081</td>\n",
       "      <td>PRIMARY</td>\n",
       "      <td>33KV</td>\n",
       "      <td>MULHOUSE ROAD</td>\n",
       "      <td>BELFAST</td>\n",
       "      <td>ANTRIM</td>\n",
       "      <td>BT12</td>\n",
       "      <td>332495.322170</td>\n",
       "      <td>373583.653645</td>\n",
       "      <td>Belfast</td>\n",
       "      <td>N09000003</td>\n",
       "      <td>POINT (-5.95094 54.59313)</td>\n",
       "    </tr>\n",
       "    <tr>\n",
       "      <th>6</th>\n",
       "      <td>Primary Substations</td>\n",
       "      <td>NIE Networks</td>\n",
       "      <td>SHANKILL</td>\n",
       "      <td>10000773</td>\n",
       "      <td>PRIMARY</td>\n",
       "      <td>33KV</td>\n",
       "      <td>None</td>\n",
       "      <td>BELFAST</td>\n",
       "      <td>ANTRIM</td>\n",
       "      <td>BT13 1RP</td>\n",
       "      <td>332313.465192</td>\n",
       "      <td>375322.299851</td>\n",
       "      <td>Belfast</td>\n",
       "      <td>N09000003</td>\n",
       "      <td>POINT (-5.95297 54.60878)</td>\n",
       "    </tr>\n",
       "    <tr>\n",
       "      <th>7</th>\n",
       "      <td>Primary Substations</td>\n",
       "      <td>NIE Networks</td>\n",
       "      <td>AIRPORT ROAD</td>\n",
       "      <td>10000604</td>\n",
       "      <td>PRIMARY</td>\n",
       "      <td>33KV</td>\n",
       "      <td>AIRPORT ROAD</td>\n",
       "      <td>BELFAST</td>\n",
       "      <td>ANTRIM</td>\n",
       "      <td>None</td>\n",
       "      <td>335851.146849</td>\n",
       "      <td>374880.534631</td>\n",
       "      <td>Belfast</td>\n",
       "      <td>N09000003</td>\n",
       "      <td>POINT (-5.89846 54.60388)</td>\n",
       "    </tr>\n",
       "    <tr>\n",
       "      <th>8</th>\n",
       "      <td>Primary Substations</td>\n",
       "      <td>NIE Networks</td>\n",
       "      <td>BELFAST HARBOUR COMMISSIONERS (HVC)</td>\n",
       "      <td>10480856</td>\n",
       "      <td>PRIMARY</td>\n",
       "      <td>33KV</td>\n",
       "      <td>None</td>\n",
       "      <td>BELFAST</td>\n",
       "      <td>ANTRIM</td>\n",
       "      <td>None</td>\n",
       "      <td>336800.074259</td>\n",
       "      <td>377074.701999</td>\n",
       "      <td>Belfast</td>\n",
       "      <td>N09000003</td>\n",
       "      <td>POINT (-5.88276 54.62332)</td>\n",
       "    </tr>\n",
       "    <tr>\n",
       "      <th>9</th>\n",
       "      <td>Primary Substations</td>\n",
       "      <td>NIE Networks</td>\n",
       "      <td>BOG MEADOWS</td>\n",
       "      <td>10000637</td>\n",
       "      <td>PRIMARY</td>\n",
       "      <td>33KV</td>\n",
       "      <td>BOG MEADOWS</td>\n",
       "      <td>BELFAST</td>\n",
       "      <td>ANTRIM</td>\n",
       "      <td>BT12 6HR</td>\n",
       "      <td>331560.016525</td>\n",
       "      <td>371505.096866</td>\n",
       "      <td>Belfast</td>\n",
       "      <td>N09000003</td>\n",
       "      <td>POINT (-5.96633 54.57471)</td>\n",
       "    </tr>\n",
       "  </tbody>\n",
       "</table>\n",
       "</div>"
      ],
      "text/plain": [
       "               dataset    license_ar                            site_name  \\\n",
       "0  Primary Substations  NIE Networks                       BALLYMACARRETT   \n",
       "1  Primary Substations  NIE Networks                          BALLYSILLAN   \n",
       "2  Primary Substations  NIE Networks                             BALMORAL   \n",
       "3  Primary Substations  NIE Networks                    CITY HOSPITAL S/D   \n",
       "4  Primary Substations  NIE Networks                            LAGANSIDE   \n",
       "5  Primary Substations  NIE Networks                        MULHOUSE ROAD   \n",
       "6  Primary Substations  NIE Networks                             SHANKILL   \n",
       "7  Primary Substations  NIE Networks                         AIRPORT ROAD   \n",
       "8  Primary Substations  NIE Networks  BELFAST HARBOUR COMMISSIONERS (HVC)   \n",
       "9  Primary Substations  NIE Networks                          BOG MEADOWS   \n",
       "\n",
       "  site_funct site_type site_volta       site_stree site_town_ site_count  \\\n",
       "0   10000618   PRIMARY       33KV             None    BELFAST     ANTRIM   \n",
       "1   10000625   PRIMARY       33KV  108 ALLIANCE RD    BELFAST     ANTRIM   \n",
       "2   10000626   PRIMARY       33KV             None    BELFAST     ANTRIM   \n",
       "3   10370529   PRIMARY       33KV  37 LISBURN ROAD    BELFAST     ANTRIM   \n",
       "4   10000891   PRIMARY       33KV             None    BELFAST     ANTRIM   \n",
       "5   10481081   PRIMARY       33KV    MULHOUSE ROAD    BELFAST     ANTRIM   \n",
       "6   10000773   PRIMARY       33KV             None    BELFAST     ANTRIM   \n",
       "7   10000604   PRIMARY       33KV     AIRPORT ROAD    BELFAST     ANTRIM   \n",
       "8   10480856   PRIMARY       33KV             None    BELFAST     ANTRIM   \n",
       "9   10000637   PRIMARY       33KV      BOG MEADOWS    BELFAST     ANTRIM   \n",
       "\n",
       "  site_postc     site_longi     site_latit lad_name   lad_code  \\\n",
       "0    BT5 5BB  336614.230374  374087.387280  Belfast  N09000003   \n",
       "1   BT14 7JF  331616.243565  376578.967095  Belfast  N09000003   \n",
       "2   BT10 0HB  330798.657759  370428.930084  Belfast  N09000003   \n",
       "3       None  333306.445984  372967.550692  Belfast  N09000003   \n",
       "4       None  334650.990502  374032.514494  Belfast  N09000003   \n",
       "5       BT12  332495.322170  373583.653645  Belfast  N09000003   \n",
       "6   BT13 1RP  332313.465192  375322.299851  Belfast  N09000003   \n",
       "7       None  335851.146849  374880.534631  Belfast  N09000003   \n",
       "8       None  336800.074259  377074.701999  Belfast  N09000003   \n",
       "9   BT12 6HR  331560.016525  371505.096866  Belfast  N09000003   \n",
       "\n",
       "                    geometry  \n",
       "0  POINT (-5.88703 54.59655)  \n",
       "1  POINT (-5.96319 54.62025)  \n",
       "2  POINT (-5.97857 54.56525)  \n",
       "3  POINT (-5.93868 54.58738)  \n",
       "4  POINT (-5.91741 54.59659)  \n",
       "5  POINT (-5.95094 54.59313)  \n",
       "6  POINT (-5.95297 54.60878)  \n",
       "7  POINT (-5.89846 54.60388)  \n",
       "8  POINT (-5.88276 54.62332)  \n",
       "9  POINT (-5.96633 54.57471)  "
      ]
     },
     "execution_count": 6,
     "metadata": {},
     "output_type": "execute_result"
    }
   ],
   "source": [
    "substations.head(10) # Examine the attribute table associated with the substation data"
   ]
  },
  {
   "cell_type": "markdown",
   "id": "37fc7729-f46b-449f-9e18-4dd50aee61ca",
   "metadata": {},
   "source": [
    "## Examine Substation Data"
   ]
  },
  {
   "cell_type": "markdown",
   "id": "345763bc-3f90-4dad-a7ab-007098bd80d8",
   "metadata": {},
   "source": [
    "## Import Basemap from OSM "
   ]
  },
  {
   "cell_type": "code",
   "execution_count": null,
   "id": "3751a2b8-bde5-40df-8dfa-0dad87703501",
   "metadata": {},
   "outputs": [],
   "source": []
  },
  {
   "cell_type": "code",
   "execution_count": null,
   "id": "eebf705e-5af4-4b94-9a2e-db94e3a1856d",
   "metadata": {},
   "outputs": [],
   "source": []
  },
  {
   "cell_type": "code",
   "execution_count": 73,
   "id": "a7738a98-18f3-4cc4-aa09-517a8963eeb7",
   "metadata": {},
   "outputs": [],
   "source": [
    "basemap = OSM()"
   ]
  },
  {
   "cell_type": "markdown",
   "id": "7e81fb20-1c0d-4c7b-9f53-8a2f2f30311f",
   "metadata": {},
   "source": [
    "## Create 200m Buffer around Substations"
   ]
  },
  {
   "cell_type": "code",
   "execution_count": 98,
   "id": "ee443c45-e734-48eb-a5b0-bdb020169240",
   "metadata": {},
   "outputs": [
    {
     "data": {
      "text/html": [
       "<div>\n",
       "<style scoped>\n",
       "    .dataframe tbody tr th:only-of-type {\n",
       "        vertical-align: middle;\n",
       "    }\n",
       "\n",
       "    .dataframe tbody tr th {\n",
       "        vertical-align: top;\n",
       "    }\n",
       "\n",
       "    .dataframe thead th {\n",
       "        text-align: right;\n",
       "    }\n",
       "</style>\n",
       "<table border=\"1\" class=\"dataframe\">\n",
       "  <thead>\n",
       "    <tr style=\"text-align: right;\">\n",
       "      <th></th>\n",
       "      <th>geometry</th>\n",
       "    </tr>\n",
       "  </thead>\n",
       "  <tbody>\n",
       "    <tr>\n",
       "      <th>0</th>\n",
       "      <td>POLYGON ((-655140.927 7283955.987, -655141.89 ...</td>\n",
       "    </tr>\n",
       "    <tr>\n",
       "      <th>1</th>\n",
       "      <td>POLYGON ((-663618.734 7288509.934, -663619.697...</td>\n",
       "    </tr>\n",
       "    <tr>\n",
       "      <th>2</th>\n",
       "      <td>POLYGON ((-665331.483 7277942.59, -665332.446 ...</td>\n",
       "    </tr>\n",
       "    <tr>\n",
       "      <th>3</th>\n",
       "      <td>POLYGON ((-660890.514 7282194.005, -660891.477...</td>\n",
       "    </tr>\n",
       "    <tr>\n",
       "      <th>4</th>\n",
       "      <td>POLYGON ((-658522.626 7283962.461, -658523.589...</td>\n",
       "    </tr>\n",
       "  </tbody>\n",
       "</table>\n",
       "</div>"
      ],
      "text/plain": [
       "                                            geometry\n",
       "0  POLYGON ((-655140.927 7283955.987, -655141.89 ...\n",
       "1  POLYGON ((-663618.734 7288509.934, -663619.697...\n",
       "2  POLYGON ((-665331.483 7277942.59, -665332.446 ...\n",
       "3  POLYGON ((-660890.514 7282194.005, -660891.477...\n",
       "4  POLYGON ((-658522.626 7283962.461, -658523.589..."
      ]
     },
     "execution_count": 98,
     "metadata": {},
     "output_type": "execute_result"
    }
   ],
   "source": [
    "buffer = substations_wm.buffer(200) # Create a 200m buffer around the Belfast Substations\n",
    "buffer_gdf = gpd.GeoDataFrame(geometry=buffer, crs=\"EPSG:3857\") # Convert the GeoSeries into a GeoDataFrame in Web Mercator\n",
    "buffer_gdf.head() # Show the first 5 records within the newly created GeoDataFrame"
   ]
  },
  {
   "cell_type": "markdown",
   "id": "9c739e31-538d-44c4-ac24-432b03c7947a",
   "metadata": {},
   "source": [
    "## Create reference system to project data"
   ]
  },
  {
   "cell_type": "code",
   "execution_count": 68,
   "id": "aab5058d-2b09-45f2-bbd7-6f709fb9fa27",
   "metadata": {},
   "outputs": [],
   "source": [
    "map_crs = ccrs.Mercator() # Create a standard coordinate system for the map figure. "
   ]
  },
  {
   "cell_type": "markdown",
   "id": "8ef46003-440c-45a2-bbbc-b13d455f522b",
   "metadata": {},
   "source": [
    "## Create Figure"
   ]
  },
  {
   "cell_type": "code",
   "execution_count": 81,
   "id": "8687051d-07b4-48d2-944f-37841dafe8dd",
   "metadata": {},
   "outputs": [
    {
     "data": {
      "image/png": "[encoded data removed]",
      "text/plain": [
       "<Figure size 800x800 with 1 Axes>"
      ]
     },
     "metadata": {},
     "output_type": "display_data"
    }
   ],
   "source": [
    "fig = plt.figure(figsize=(8, 8))  # create a figure of size 8x8 inches\n",
    "ax = plt.axes(projection=map_crs)  # creates axis in EPSG 3857\n",
    "ax.set_extent([-670046, 729800, -653893, 7298200], crs=map_crs) # Set map extent to match total bounds of buffer feature"
   ]
  },
  {
   "cell_type": "markdown",
   "id": "1450e8f5-e31c-4352-9f13-8bc35eba66f8",
   "metadata": {},
   "source": [
    "## Create Scale Bar using a predefined function"
   ]
  },
  {
   "cell_type": "code",
   "execution_count": 55,
   "id": "79a50a11-6ac5-41f9-bd12-a69ce9b52dd9",
   "metadata": {},
   "outputs": [],
   "source": [
    "def scale_bar(ax, length=1, location=(0.92, 0.95)): # Axel location within figure\n",
    "    x0, x1, y0, y1 = ax.get_extent() # get the current extent of the axis\n",
    "    sbx = x0 + (x1 - x0) * location[0] #  Correct x coordinate of the scale bar\n",
    "    sby = y0 + (y1 - y0) * location[1] # Correct y coordinate of the scale bar\n",
    "\n",
    "    ax.plot([sbx, sbx-length*1000], [sby, sby], color='k', linewidth=4, transform=ax.projection) # Plot a thick black line\n",
    "    ax.plot([sbx-(length/2)*1000, sbx-length*1000], [sby, sby], color='w', linewidth=2, transform=ax.projection) # Plot a white line to halfway mark\n",
    "\n",
    "    ax.text(sbx, sby-(length/4)*1000, f\"{length} km\", ha='center', transform=ax.projection, fontsize=6) # Add right hand label\n",
    "    ax.text(sbx-(length/2)*1000, sby-(length/4)*1000, f\"{int(length/2)} km\", ha='center', transform=ax.projection, fontsize=6) # Add middle label\n",
    "    ax.text(sbx-length*1000, sby-(length/4)*1000, '0 km', ha='center', transform=ax.projection, fontsize=6) # Add left hand label\n",
    "\n",
    "    return ax"
   ]
  },
  {
   "cell_type": "markdown",
   "id": "736eec5f-4ee9-4386-8780-b4d9770ba005",
   "metadata": {},
   "source": [
    "## Create Legend Patches"
   ]
  },
  {
   "cell_type": "code",
   "execution_count": 109,
   "id": "a47302a5-866b-495f-ae92-5343f898bce9",
   "metadata": {},
   "outputs": [],
   "source": [
    "def map_legend(ax):\n",
    "    buffer_patch = mpatches.Patch(color=\"lightsalmon\", label=\"200m Buffer\") # Add patch to legend for Buffer polygon data\n",
    "    substations_marker = mlines.Line2D([], [], color=\"dodgerblue\", marker=\"s\", linestyle=\"None\", markersize=7, label=\"NIE Substations\") # Add patch to legend for Substation point data\n",
    "    charging_marker = mlines.Line2D([], [], color=\"limegreen\", marker=\"o\", linestyle=\"None\", markersize=7, label=\"EV Charging Points\") # Add patch to legend for EV Charger point data\n",
    "\n",
    "    ax.legend(handles=[buffer_patch, substations_marker, charging_marker], loc=\"lower left\", fontsize=8, frameon=True)"
   ]
  },
  {
   "cell_type": "code",
   "execution_count": 105,
   "id": "7ce1bc44-2ab5-44c4-8d01-0165542431a4",
   "metadata": {},
   "outputs": [
    {
     "ename": "SyntaxError",
     "evalue": "EOL while scanning string literal (3447222062.py, line 6)",
     "output_type": "error",
     "traceback": [
      "\u001b[0;36m  Cell \u001b[0;32mIn[105], line 6\u001b[0;36m\u001b[0m\n\u001b[0;31m    ax.legend(handles=[buffer_patch, subtations_marker, charging_marker], loc=\"lower left\", fontsize=8, frameon=True\")\u001b[0m\n\u001b[0m                                                                                                                      ^\u001b[0m\n\u001b[0;31mSyntaxError\u001b[0m\u001b[0;31m:\u001b[0m EOL while scanning string literal\n"
     ]
    }
   ],
   "source": [
    "def map_legend(ax):\n",
    "    buffer_patch = mpatches.Patch(color=\"lightsalmon\", label=\"200m Buffer\") # Add patch to legend for Buffer polygon data\n",
    "    substations_marker = mlines.Line2D([], [], color=\"dodgerblue\", marker=\"s\", linestyle=\"None\", markersize=7, label=\"NIE Substations\") # Add patch to legend for Substation point data\n",
    "    charging_marker = mlines.Line2D([], [], color=\"limegreen\", marker=\"o\", linestyle=\"None\", markersize=7, label=\"EV Charging Points\") # Add patch to legend for EV Charger point data\n",
    "\n",
    "    ax.legend(handles=[buffer_patch, subtations_marker, charging_marker], loc=\"lower left\", fontsize=8, frameon=True\")"
   ]
  },
  {
   "cell_type": "code",
   "execution_count": null,
   "id": "190afcfd-ef85-4d23-94c7-6666f36f0f1d",
   "metadata": {},
   "outputs": [],
   "source": []
  },
  {
   "cell_type": "markdown",
   "id": "dab00ffa-2e18-4205-92b1-2412bba9d574",
   "metadata": {},
   "source": [
    "## Check Extent of Data"
   ]
  },
  {
   "cell_type": "code",
   "execution_count": 70,
   "id": "3ea0d910-11dd-4093-a0c8-f425fc46b74a",
   "metadata": {},
   "outputs": [
    {
     "name": "stdout",
     "output_type": "stream",
     "text": [
      "[-670046.09894093 7276411.75366261 -653093.87416041 7290820.24148441]\n"
     ]
    }
   ],
   "source": [
    "print(buffer_gdf.total_bounds) # Check total extents for map extent"
   ]
  },
  {
   "cell_type": "markdown",
   "id": "92f908e7-5c88-4abd-9a36-ddeace4eeb3c",
   "metadata": {},
   "source": [
    "## Add Data to the Map"
   ]
  },
  {
   "cell_type": "code",
   "execution_count": 89,
   "id": "7ed5be13-3cf0-4a31-918a-f3253e05f887",
   "metadata": {},
   "outputs": [],
   "source": [
    "#Add Basemap \n",
    "ax.add_image(basemap, 13) # Add basemap and set zoom extent\n",
    "\n",
    "#Add Buffer\n",
    "buffer_feature = ShapelyFeature(buffer_gdf['geometry'], map_crs, edgecolor=\"lightsalmon\", facecolor=\"lightsalmon\")  # Create a map feature for the buffers and add symbology                              \n",
    "ax.add_feature(buffer_feature) # Add buffers to map\n",
    "\n",
    "# Add Substations\n",
    "substations_feature = ax.plot(substations_wm.geometry.x, substations.geometry.y, 's', color=\"dodgerblue\", ms=7, transform=ccrs.epsg(3857)) \n",
    "\n",
    "# Add EV Charging Stations\n",
    "EVcharging_feature = ax.plot(EVcharging_wm.geometry.x, EVcharging.geometry.y, 'o', color=\"limegreen\", ms=7, transform=ccrs.epsg(3857)) # Add charging stations to the map"
   ]
  },
  {
   "cell_type": "markdown",
   "id": "1855e02e-845f-4a32-8e33-a056f803c4e2",
   "metadata": {},
   "source": [
    "## Add Map Elements and set extent"
   ]
  },
  {
   "cell_type": "code",
   "execution_count": 110,
   "id": "6e0e02f8-1d8c-4282-a954-7eead2987f59",
   "metadata": {},
   "outputs": [
    {
     "data": {
      "image/png": "[encoded data removed]",
      "text/plain": [
       "<Figure size 800x800 with 1 Axes>"
      ]
     },
     "execution_count": 110,
     "metadata": {},
     "output_type": "execute_result"
    }
   ],
   "source": [
    "ax.gridlines(draw_labels=False) # Add optional gridlines to figure\n",
    "scale_bar(ax) # Add scale bar\n",
    "map_legend(ax) # Add legend to figure\n",
    "ax.set_title(\"EV Charging Points in relation to Substations in Belfast\", fontsize=14, pad=20) # Add a title to the figure\n",
    "\n",
    "fig # Return Updated Figure"
   ]
  },
  {
   "cell_type": "markdown",
   "id": "d408f8b3-938c-4625-8b1e-c5d95f424ff5",
   "metadata": {},
   "source": [
    "## Export Map"
   ]
  },
  {
   "cell_type": "code",
   "execution_count": 44,
   "id": "e76e8dac-62bc-463f-9162-1fabee11becb",
   "metadata": {},
   "outputs": [],
   "source": [
    "fig.savefig('belfastChargers.jpeg', dpi=300) # Export the map as a JPEG"
   ]
  }
 ],
 "metadata": {
  "kernelspec": {
   "display_name": "Python 3 (ipykernel)",
   "language": "python",
   "name": "python3"
  },
  "language_info": {
   "codemirror_mode": {
    "name": "ipython",
    "version": 3
   },
   "file_extension": ".py",
   "mimetype": "text/x-python",
   "name": "python",
   "nbconvert_exporter": "python",
   "pygments_lexer": "ipython3",
   "version": "3.9.22"
  }
 },
 "nbformat": 4,
 "nbformat_minor": 5
}
