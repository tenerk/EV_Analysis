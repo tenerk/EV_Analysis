{
 "cells": [
  {
   "cell_type": "markdown",
   "id": "c9ac1839-0dba-4404-a8e2-ba9128a907ae",
   "metadata": {},
   "source": [
    "Import relevant Python Modules"
   ]
  },
  {
   "cell_type": "code",
   "execution_count": 2,
   "id": "aea340f2-649b-4976-bb65-2d02b84bd0d7",
   "metadata": {},
   "outputs": [],
   "source": [
    "import geopandas as gpd\n",
    "import contextily as cx\n",
    "import matplotlib as plt\n",
    "import shapely\n",
    "import cartopy.crs as ccris\n",
    "import os"
   ]
  },
  {
   "cell_type": "markdown",
   "id": "2b6c668b-c350-4391-977e-428abf42a9f6",
   "metadata": {},
   "source": [
    "Import data"
   ]
  },
  {
   "cell_type": "code",
   "execution_count": null,
   "id": "ef66d35b-745a-4b33-a580-4f722f4a4461",
   "metadata": {},
   "outputs": [],
   "source": [
    "substations = gpd.read_file(os.path.abspath('EV_Analysis/Data/belfastSubstations.shp'))\n",
    "EVcharging = gpd.read_file(os.path.abspath('EV_Analysis/Data/evChargingStations_belfast.shp'))"
   ]
  },
  {
   "cell_type": "code",
   "execution_count": null,
   "id": "956531ff-ca2c-4e8c-b820-ff84f2130953",
   "metadata": {},
   "outputs": [],
   "source": []
  }
 ],
 "metadata": {
  "kernelspec": {
   "display_name": "Python 3 (ipykernel)",
   "language": "python",
   "name": "python3"
  },
  "language_info": {
   "codemirror_mode": {
    "name": "ipython",
    "version": 3
   },
   "file_extension": ".py",
   "mimetype": "text/x-python",
   "name": "python",
   "nbconvert_exporter": "python",
   "pygments_lexer": "ipython3",
   "version": "3.9.22"
  }
 },
 "nbformat": 4,
 "nbformat_minor": 5
}
